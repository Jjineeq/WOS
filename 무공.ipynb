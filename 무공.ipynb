{
 "cells": [
  {
   "cell_type": "code",
   "execution_count": 12,
   "metadata": {},
   "outputs": [],
   "source": [
    "import pandas as pd\n",
    "from itertools import cycle\n",
    "\n",
    "# Load the data (assuming you converted and saved it to an Excel file or similar)\n",
    "data = pd.read_excel('./무공.xlsx')  # Update with the actual file name\n",
    "\n",
    "group1 = data[(data['시간'] == '1군') & (data['비고'] != '후보')].sort_values(by='전투력', ascending=False).reset_index(drop=True)\n",
    "group2 = data[(data['시간'] == '2군') & (data['비고'] != '후보')].sort_values(by='전투력', ascending=False).reset_index(drop=True)\n",
    "\n",
    "# Define locations\n",
    "locations = ['무기시험장(적군쪽)','환승역', '무기시험장(아군쪽)', '무기정비소1', '무기정비소2', '무기정비소3', '무기정비소4', '증기보일러']\n",
    "# locations = ['노란색방향','보라색방향']"
   ]
  },
  {
   "cell_type": "code",
   "execution_count": 13,
   "metadata": {},
   "outputs": [],
   "source": [
    "waiting_list_group1 = data[(data['시간'] == '1군') & (data['비고'] == '후보')][['닉네임', '전투력']].values.tolist()\n",
    "waiting_list_group2 = data[(data['시간'] == '2군') & (data['비고'] == '후보')][['닉네임', '전투력']].values.tolist()"
   ]
  },
  {
   "cell_type": "code",
   "execution_count": 14,
   "metadata": {},
   "outputs": [],
   "source": [
    "combined = pd.concat([group1, group2]).sort_values(by='전투력', ascending=False).reset_index(drop=True)\n"
   ]
  },
  {
   "cell_type": "code",
   "execution_count": 15,
   "metadata": {},
   "outputs": [],
   "source": [
    "assignments_group1 = {location: [] for location in locations}\n",
    "combat_power_sums_group1 = {location: 0 for location in locations}\n",
    "\n",
    "assignments_group2 = {location: [] for location in locations}\n",
    "combat_power_sums_group2 = {location: 0 for location in locations}"
   ]
  },
  {
   "cell_type": "code",
   "execution_count": 16,
   "metadata": {},
   "outputs": [],
   "source": [
    "def assign_member_to_location(member, group_assignments, group_sums):\n",
    "    # Find locations that have fewer than 3 members\n",
    "    available_locations = [loc for loc in locations if len(group_assignments[loc]) < 3]\n",
    "    \n",
    "    if available_locations:\n",
    "        # Find the location with the minimum combat power sum among available locations\n",
    "        min_location = min(available_locations, key=lambda loc: group_sums[loc])\n",
    "        # Assign the member to this location\n",
    "        group_assignments[min_location].append((member['닉네임'], member['전투력']))\n",
    "        # Update the combat power sum for that location\n",
    "        group_sums[min_location] += member['전투력']\n",
    "    else:\n",
    "        # If all locations are full (each has 3 members), return False indicating no available space\n",
    "        return False\n",
    "    return True"
   ]
  },
  {
   "cell_type": "code",
   "execution_count": 17,
   "metadata": {},
   "outputs": [],
   "source": [
    "for _, member in group1.iterrows():\n",
    "    if not assign_member_to_location(member, assignments_group1, combat_power_sums_group1):\n",
    "        # If no space is available, add to waiting list\n",
    "        waiting_list_group1.append((member['닉네임'], member['전투력']))\n"
   ]
  },
  {
   "cell_type": "code",
   "execution_count": 18,
   "metadata": {},
   "outputs": [],
   "source": [
    "for _, member in group2.iterrows():\n",
    "    if not assign_member_to_location(member, assignments_group2, combat_power_sums_group2):\n",
    "        # If no space is available, add to waiting list\n",
    "        waiting_list_group2.append((member['닉네임'], member['전투력']))\n"
   ]
  },
  {
   "cell_type": "code",
   "execution_count": 19,
   "metadata": {},
   "outputs": [
    {
     "name": "stdout",
     "output_type": "stream",
     "text": [
      "1군\n",
      "무기시험장(적군쪽) : _진, 김하비\n",
      "환승역 : 티티니, KettyDouja, 유정짱\n",
      "무기시험장(아군쪽) : 拿叮Nadin, La Flame, 벨루가\n",
      "무기정비소1 : TYO, 신나용, 행복이\n",
      "무기정비소2 : Ironman's 망고ღ, FUBAOʕ·͡ᴥ፝֟·ʔ, 청산유수\n",
      "무기정비소3 : Cronos, جميل 2, HERO_지니\n",
      "무기정비소4 : 에이오, Ultraman, 냐긍이\n",
      "증기보일러 : 하츄핑ღ, Xavieraaa, END 아닌 AND\n"
     ]
    }
   ],
   "source": [
    "print('1군')\n",
    "for location in locations:\n",
    "    # print(f\"{location} : Total Power = {combat_power_sums_group1[location]}\")\n",
    "    print(f\"{location} : \"+ \", \".join([member[0] for member in assignments_group1[location]]))\n",
    "    # print(\"\\n\")"
   ]
  },
  {
   "cell_type": "code",
   "execution_count": 20,
   "metadata": {},
   "outputs": [
    {
     "name": "stdout",
     "output_type": "stream",
     "text": [
      "Waiting List - Group 1 (1군):\n",
      "지원조 - \n"
     ]
    }
   ],
   "source": [
    "print(\"Waiting List - Group 1 (1군):\")\n",
    "print(\"지원조 - \" + \", \".join([member[0] for member in waiting_list_group1]))"
   ]
  },
  {
   "cell_type": "code",
   "execution_count": 21,
   "metadata": {},
   "outputs": [
    {
     "name": "stdout",
     "output_type": "stream",
     "text": [
      "2군\n",
      "무기시험장(적군쪽) : SpiDerMan' 랄랄\n",
      "환승역 : Yunami, 짱범a\n",
      "무기시험장(아군쪽) : HOHOღ, NinJa 거북이\n",
      "무기정비소1 : 마요감자, 이뚱:N\n",
      "무기정비소2 : 끼리ღ, 마 루\n",
      "무기정비소3 : Nini°, 뉴비뉴비, kyk\n",
      "무기정비소4 : Dobby, ๛BOSS๛, 유 주\n",
      "증기보일러 : Killer 죠리퐁ღ, Mency\n"
     ]
    }
   ],
   "source": [
    "print('2군')\n",
    "for location in locations:\n",
    "    # print(f\"{location} : Total Power = {combat_power_sums_group2[location]}\")\n",
    "    print(f\"{location} : \"+ \", \".join([member[0] for member in assignments_group2[location]]))\n",
    "    # print(\" - \" + \", \".join([member[0] for member in assignments_group2[location]]))\n",
    "    # print(\"\\n\")"
   ]
  },
  {
   "cell_type": "code",
   "execution_count": 22,
   "metadata": {},
   "outputs": [
    {
     "name": "stdout",
     "output_type": "stream",
     "text": [
      "Waiting List - Group 2 (2군):\n",
      "지원조 - \n"
     ]
    }
   ],
   "source": [
    "print(\"Waiting List - Group 2 (2군):\")\n",
    "print(\"지원조 - \" + \", \".join([member[0] for member in waiting_list_group2]))\n"
   ]
  }
 ],
 "metadata": {
  "kernelspec": {
   "display_name": "base",
   "language": "python",
   "name": "python3"
  },
  "language_info": {
   "codemirror_mode": {
    "name": "ipython",
    "version": 3
   },
   "file_extension": ".py",
   "mimetype": "text/x-python",
   "name": "python",
   "nbconvert_exporter": "python",
   "pygments_lexer": "ipython3",
   "version": "3.12.7"
  }
 },
 "nbformat": 4,
 "nbformat_minor": 2
}
